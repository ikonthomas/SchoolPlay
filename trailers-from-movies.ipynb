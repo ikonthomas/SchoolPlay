{
 "cells": [
  {
   "cell_type": "markdown",
   "id": "f00b5278",
   "metadata": {
    "papermill": {
     "duration": 0.010479,
     "end_time": "2024-11-05T19:01:22.235188",
     "exception": false,
     "start_time": "2024-11-05T19:01:22.224709",
     "status": "completed"
    },
    "tags": []
   },
   "source": [
    "\n",
    "# Importing libraries \n"
   ]
  },
  {
   "cell_type": "code",
   "execution_count": 1,
   "id": "2add4fb9",
   "metadata": {
    "execution": {
     "iopub.execute_input": "2024-11-05T19:01:22.250028Z",
     "iopub.status.busy": "2024-11-05T19:01:22.248896Z",
     "iopub.status.idle": "2024-11-05T19:01:22.262236Z",
     "shell.execute_reply": "2024-11-05T19:01:22.261020Z"
    },
    "papermill": {
     "duration": 0.024204,
     "end_time": "2024-11-05T19:01:22.265798",
     "exception": false,
     "start_time": "2024-11-05T19:01:22.241594",
     "status": "completed"
    },
    "tags": []
   },
   "outputs": [],
   "source": [
    "from datetime import datetime"
   ]
  },
  {
   "cell_type": "markdown",
   "id": "64d0182d",
   "metadata": {
    "papermill": {
     "duration": 0.006224,
     "end_time": "2024-11-05T19:01:22.281087",
     "exception": false,
     "start_time": "2024-11-05T19:01:22.274863",
     "status": "completed"
    },
    "tags": []
   },
   "source": [
    "## Step 0: Preview your large file"
   ]
  },
  {
   "cell_type": "code",
   "execution_count": 2,
   "id": "cc76e38f",
   "metadata": {
    "_kg_hide-input": true,
    "execution": {
     "iopub.execute_input": "2024-11-05T19:01:22.294834Z",
     "iopub.status.busy": "2024-11-05T19:01:22.293975Z",
     "iopub.status.idle": "2024-11-05T19:01:22.300789Z",
     "shell.execute_reply": "2024-11-05T19:01:22.299617Z"
    },
    "papermill": {
     "duration": 0.016886,
     "end_time": "2024-11-05T19:01:22.303859",
     "exception": false,
     "start_time": "2024-11-05T19:01:22.286973",
     "status": "completed"
    },
    "tags": []
   },
   "outputs": [
    {
     "name": "stdout",
     "output_type": "stream",
     "text": [
      "CPU times: user 10 µs, sys: 3 µs, total: 13 µs\n",
      "Wall time: 16.2 µs\n"
     ]
    }
   ],
   "source": [
    "%%time\n",
    "\n",
    "from IPython.display import Video\n",
    "\n",
    "# videofile = '/kaggle/input/google-gemini-long-context-dataset/Vijay 69.mp4'\n",
    "videofile = '/kaggle/input/google-gemini-long-context-dataset/Goosebumps S01E01-E02 The Haunted Mask.mp4' \n"
   ]
  },
  {
   "cell_type": "code",
   "execution_count": 3,
   "id": "70a47242",
   "metadata": {
    "execution": {
     "iopub.execute_input": "2024-11-05T19:01:22.324466Z",
     "iopub.status.busy": "2024-11-05T19:01:22.323639Z",
     "iopub.status.idle": "2024-11-05T19:01:22.328488Z",
     "shell.execute_reply": "2024-11-05T19:01:22.327360Z"
    },
    "papermill": {
     "duration": 0.017706,
     "end_time": "2024-11-05T19:01:22.330887",
     "exception": false,
     "start_time": "2024-11-05T19:01:22.313181",
     "status": "completed"
    },
    "tags": []
   },
   "outputs": [],
   "source": [
    "\n",
    "# Video(videofile, embed=True, width=640, height=480)\n"
   ]
  },
  {
   "cell_type": "markdown",
   "id": "89a4b1e9",
   "metadata": {
    "papermill": {
     "duration": 0.006885,
     "end_time": "2024-11-05T19:01:22.343855",
     "exception": false,
     "start_time": "2024-11-05T19:01:22.336970",
     "status": "completed"
    },
    "tags": []
   },
   "source": [
    "## Step 1: Import Python Packages"
   ]
  },
  {
   "cell_type": "code",
   "execution_count": 4,
   "id": "41f86ef9",
   "metadata": {
    "_kg_hide-input": false,
    "execution": {
     "iopub.execute_input": "2024-11-05T19:01:22.358731Z",
     "iopub.status.busy": "2024-11-05T19:01:22.357467Z",
     "iopub.status.idle": "2024-11-05T19:01:23.586554Z",
     "shell.execute_reply": "2024-11-05T19:01:23.585421Z"
    },
    "papermill": {
     "duration": 1.239056,
     "end_time": "2024-11-05T19:01:23.589075",
     "exception": false,
     "start_time": "2024-11-05T19:01:22.350019",
     "status": "completed"
    },
    "tags": []
   },
   "outputs": [
    {
     "name": "stdout",
     "output_type": "stream",
     "text": [
      "2024-11-05 19:01:23.582927\n"
     ]
    }
   ],
   "source": [
    "import os\n",
    "import time\n",
    "import google.generativeai as genai\n",
    "from kaggle_secrets import UserSecretsClient\n",
    "\n",
    "print(datetime.now())"
   ]
  },
  {
   "cell_type": "markdown",
   "id": "1454b3f8",
   "metadata": {
    "papermill": {
     "duration": 0.005679,
     "end_time": "2024-11-05T19:01:23.600839",
     "exception": false,
     "start_time": "2024-11-05T19:01:23.595160",
     "status": "completed"
    },
    "tags": []
   },
   "source": [
    "## Step 2: Authenticate with Google Generative AI"
   ]
  },
  {
   "cell_type": "markdown",
   "id": "c1940bfa",
   "metadata": {
    "papermill": {
     "duration": 0.00587,
     "end_time": "2024-11-05T19:01:23.612812",
     "exception": false,
     "start_time": "2024-11-05T19:01:23.606942",
     "status": "completed"
    },
    "tags": []
   },
   "source": [
    "Use of Gemini will require an API key. Please visit [Google AI Studio](https://ai.google.dev/)  to generate your key. \n",
    "\n",
    "Next, you should attach that key to your Kaggle Notebook as a [Kaggle User Secret](https://www.kaggle.com/discussions/product-feedback/114053). \n",
    "\n",
    "These steps are illustrated in the following screenshots:\n",
    "\n",
    "Attaching User Secrets: \n",
    " - https://i.imgur.com/GjuRLCA.png\n",
    " - https://i.imgur.com/IrSXAtw.png\n",
    " \n",
    "For details about pricing see https://ai.google.dev/pricing."
   ]
  },
  {
   "cell_type": "code",
   "execution_count": 5,
   "id": "d94365fc",
   "metadata": {
    "_kg_hide-input": false,
    "execution": {
     "iopub.execute_input": "2024-11-05T19:01:23.627197Z",
     "iopub.status.busy": "2024-11-05T19:01:23.626083Z",
     "iopub.status.idle": "2024-11-05T19:01:23.753558Z",
     "shell.execute_reply": "2024-11-05T19:01:23.752351Z"
    },
    "papermill": {
     "duration": 0.136988,
     "end_time": "2024-11-05T19:01:23.755812",
     "exception": false,
     "start_time": "2024-11-05T19:01:23.618824",
     "status": "completed"
    },
    "tags": []
   },
   "outputs": [
    {
     "name": "stdout",
     "output_type": "stream",
     "text": [
      "2024-11-05 19:01:23.749993\n"
     ]
    }
   ],
   "source": [
    "\n",
    "user_secrets = UserSecretsClient()\n",
    "\n",
    "# ai_studio_token = user_secrets.get_secret(\"ai_studio_token\")\n",
    "ai_studio_token = user_secrets.get_secret(\"GEMINI_API_KEY\")\n",
    "\n",
    "genai.configure(api_key=ai_studio_token)\n",
    "\n",
    "print(datetime.now())"
   ]
  },
  {
   "cell_type": "markdown",
   "id": "fe0f3c39",
   "metadata": {
    "papermill": {
     "duration": 0.005801,
     "end_time": "2024-11-05T19:01:23.767897",
     "exception": false,
     "start_time": "2024-11-05T19:01:23.762096",
     "status": "completed"
    },
    "tags": []
   },
   "source": [
    "## Step 3: Define helper functions"
   ]
  },
  {
   "cell_type": "code",
   "execution_count": 6,
   "id": "a06a8ae7",
   "metadata": {
    "_kg_hide-input": true,
    "execution": {
     "iopub.execute_input": "2024-11-05T19:01:23.782169Z",
     "iopub.status.busy": "2024-11-05T19:01:23.781374Z",
     "iopub.status.idle": "2024-11-05T19:01:23.790393Z",
     "shell.execute_reply": "2024-11-05T19:01:23.789304Z"
    },
    "papermill": {
     "duration": 0.019109,
     "end_time": "2024-11-05T19:01:23.793038",
     "exception": false,
     "start_time": "2024-11-05T19:01:23.773929",
     "status": "completed"
    },
    "tags": []
   },
   "outputs": [
    {
     "name": "stdout",
     "output_type": "stream",
     "text": [
      "2024-11-05 19:01:23.786777\n"
     ]
    }
   ],
   "source": [
    "\n",
    "def upload_to_gemini(path, mime_type=None):\n",
    "  \"\"\"Uploads the given file to Gemini.\n",
    "\n",
    "  See https://ai.google.dev/gemini-api/docs/prompting_with_media\n",
    "  \"\"\"\n",
    "  file = genai.upload_file(path, mime_type=mime_type)\n",
    "  print(f\"Uploaded file '{file.display_name}' as: {file.uri}\")\n",
    "  return file\n",
    "\n",
    "def wait_for_files_active(files):\n",
    "  \"\"\"Waits for the given files to be active.\n",
    "\n",
    "  Some files uploaded to the Gemini API need to be processed before they can be\n",
    "  used as prompt inputs. The status can be seen by querying the file's \"state\"\n",
    "  field.\n",
    "\n",
    "  This implementation uses a simple blocking polling loop. Production code\n",
    "  should probably employ a more sophisticated approach.\n",
    "  \"\"\"\n",
    "  print(\"Waiting for file processing...\")\n",
    "  for name in (file.name for file in files):\n",
    "    file = genai.get_file(name)\n",
    "    while file.state.name == \"PROCESSING\":\n",
    "      print(\".\", end=\"\", flush=True)\n",
    "      time.sleep(10)\n",
    "      file = genai.get_file(name)\n",
    "    if file.state.name != \"ACTIVE\":\n",
    "      raise Exception(f\"File {file.name} failed to process\")\n",
    "  print(\"...all files ready\")\n",
    "  print()\n",
    "\n",
    "\n",
    "print(datetime.now())\n"
   ]
  },
  {
   "cell_type": "markdown",
   "id": "010d23fe",
   "metadata": {
    "papermill": {
     "duration": 0.005939,
     "end_time": "2024-11-05T19:01:23.805216",
     "exception": false,
     "start_time": "2024-11-05T19:01:23.799277",
     "status": "completed"
    },
    "tags": []
   },
   "source": [
    "## Step 4: Load the Gemini 1.5 model"
   ]
  },
  {
   "cell_type": "code",
   "execution_count": 7,
   "id": "3d31cb45",
   "metadata": {
    "execution": {
     "iopub.execute_input": "2024-11-05T19:01:23.819283Z",
     "iopub.status.busy": "2024-11-05T19:01:23.818884Z",
     "iopub.status.idle": "2024-11-05T19:01:23.825468Z",
     "shell.execute_reply": "2024-11-05T19:01:23.824389Z"
    },
    "papermill": {
     "duration": 0.01635,
     "end_time": "2024-11-05T19:01:23.827712",
     "exception": false,
     "start_time": "2024-11-05T19:01:23.811362",
     "status": "completed"
    },
    "tags": []
   },
   "outputs": [
    {
     "name": "stdout",
     "output_type": "stream",
     "text": [
      "2024-11-05 19:01:23.821229\n"
     ]
    }
   ],
   "source": [
    "\n",
    "# Create the model\n",
    "generation_config = {\n",
    "  \"temperature\": 1,\n",
    "  \"top_p\": 0.95,\n",
    "  \"top_k\": 64,\n",
    "  \"max_output_tokens\": 8192,\n",
    "  \"response_mime_type\": \"text/plain\",\n",
    "}\n",
    "\n",
    "model = genai.GenerativeModel(\n",
    "  model_name=\"gemini-1.5-flash\",\n",
    "  generation_config=generation_config,\n",
    ")\n",
    "\n",
    "print(datetime.now())\n"
   ]
  },
  {
   "cell_type": "markdown",
   "id": "6a0d9988",
   "metadata": {
    "papermill": {
     "duration": 0.006096,
     "end_time": "2024-11-05T19:01:23.840040",
     "exception": false,
     "start_time": "2024-11-05T19:01:23.833944",
     "status": "completed"
    },
    "tags": []
   },
   "source": [
    "## Step 5: Upload your large file to Gemini 1.5"
   ]
  },
  {
   "cell_type": "code",
   "execution_count": 8,
   "id": "829fe7ac",
   "metadata": {
    "_cell_guid": "b1076dfc-b9ad-4769-8c92-a6c4dae69d19",
    "_uuid": "8f2839f25d086af736a60e9eeb907d3b93b6e0e5",
    "execution": {
     "iopub.execute_input": "2024-11-05T19:01:23.854474Z",
     "iopub.status.busy": "2024-11-05T19:01:23.853754Z",
     "iopub.status.idle": "2024-11-05T19:01:58.574110Z",
     "shell.execute_reply": "2024-11-05T19:01:58.572969Z"
    },
    "papermill": {
     "duration": 34.736178,
     "end_time": "2024-11-05T19:01:58.582351",
     "exception": false,
     "start_time": "2024-11-05T19:01:23.846173",
     "status": "completed"
    },
    "tags": []
   },
   "outputs": [
    {
     "name": "stdout",
     "output_type": "stream",
     "text": [
      "Uploaded file 'Goosebumps S01E01-E02 The Haunted Mask.mp4' as: https://generativelanguage.googleapis.com/v1beta/files/lbc1l9iu8npk\n",
      "Waiting for file processing...\n",
      "......all files ready\n",
      "\n",
      "2024-11-05 19:01:58.570393\n",
      "CPU times: user 585 ms, sys: 721 ms, total: 1.31 s\n",
      "Wall time: 34.7 s\n"
     ]
    }
   ],
   "source": [
    "%%time\n",
    "\n",
    "files = [\n",
    "  # upload_to_gemini(nepali_video, mime_type=\"video/webm\"),\n",
    "    upload_to_gemini(videofile, mime_type=\"video/mp4\"),  # Changed from video/webm to video/mp4\n",
    "]\n",
    "\n",
    "wait_for_files_active(files)\n",
    "\n",
    "chat_session = model.start_chat(\n",
    "  history=[\n",
    "    {\n",
    "      \"role\": \"user\",\n",
    "      \"parts\": [\n",
    "        files[0],\n",
    "      ],\n",
    "    }\n",
    "  ]\n",
    ")\n",
    "\n",
    "print(datetime.now())\n",
    "\n",
    "\n",
    "# Upload time is 02 min for 255MB / 42 Min MP4 video\n"
   ]
  },
  {
   "cell_type": "markdown",
   "id": "64dac2ff",
   "metadata": {
    "papermill": {
     "duration": 0.006074,
     "end_time": "2024-11-05T19:01:58.594891",
     "exception": false,
     "start_time": "2024-11-05T19:01:58.588817",
     "status": "completed"
    },
    "tags": []
   },
   "source": [
    "## Step 6: Ask Gemini 1.5 questions about your large file"
   ]
  },
  {
   "cell_type": "code",
   "execution_count": 9,
   "id": "8fac1524",
   "metadata": {
    "execution": {
     "iopub.execute_input": "2024-11-05T19:01:58.609914Z",
     "iopub.status.busy": "2024-11-05T19:01:58.609506Z",
     "iopub.status.idle": "2024-11-05T19:01:58.615547Z",
     "shell.execute_reply": "2024-11-05T19:01:58.614512Z"
    },
    "papermill": {
     "duration": 0.016244,
     "end_time": "2024-11-05T19:01:58.617614",
     "exception": false,
     "start_time": "2024-11-05T19:01:58.601370",
     "status": "completed"
    },
    "tags": []
   },
   "outputs": [
    {
     "name": "stdout",
     "output_type": "stream",
     "text": [
      "CPU times: user 3 µs, sys: 1 µs, total: 4 µs\n",
      "Wall time: 7.39 µs\n"
     ]
    }
   ],
   "source": [
    "%%time\n",
    "\n",
    "# response = chat_session.send_message(\"Please give me the English language transcript for this video.\")\n",
    "# print(response.text)\n"
   ]
  },
  {
   "cell_type": "code",
   "execution_count": 10,
   "id": "e76dc33f",
   "metadata": {
    "execution": {
     "iopub.execute_input": "2024-11-05T19:01:58.633064Z",
     "iopub.status.busy": "2024-11-05T19:01:58.631980Z",
     "iopub.status.idle": "2024-11-05T19:02:15.974777Z",
     "shell.execute_reply": "2024-11-05T19:02:15.973506Z"
    },
    "papermill": {
     "duration": 17.353174,
     "end_time": "2024-11-05T19:02:15.977368",
     "exception": false,
     "start_time": "2024-11-05T19:01:58.624194",
     "status": "completed"
    },
    "tags": []
   },
   "outputs": [
    {
     "name": "stdout",
     "output_type": "stream",
     "text": [
      "The video is a Goosebumps episode titled \"The Haunted Mask\". In this episode, Carly Beth puts on a haunted mask which sticks to her face, and the kids start to believe she's a real monster.  \n",
      "\n",
      "CPU times: user 23.5 ms, sys: 13.6 ms, total: 37.2 ms\n",
      "Wall time: 17.3 s\n"
     ]
    }
   ],
   "source": [
    "%%time \n",
    "\n",
    "response = chat_session.send_message(\"What is the video about?.\")\n",
    "print(response.text)"
   ]
  },
  {
   "cell_type": "code",
   "execution_count": 11,
   "id": "04f4bc5f",
   "metadata": {
    "execution": {
     "iopub.execute_input": "2024-11-05T19:02:15.993328Z",
     "iopub.status.busy": "2024-11-05T19:02:15.992327Z",
     "iopub.status.idle": "2024-11-05T19:02:29.603082Z",
     "shell.execute_reply": "2024-11-05T19:02:29.601829Z"
    },
    "papermill": {
     "duration": 13.621248,
     "end_time": "2024-11-05T19:02:29.605422",
     "exception": false,
     "start_time": "2024-11-05T19:02:15.984174",
     "status": "completed"
    },
    "tags": []
   },
   "outputs": [
    {
     "name": "stdout",
     "output_type": "stream",
     "text": [
      "Here are the main characters in the video and their roles in the story:\n",
      "\n",
      "* **Carly Beth:** The main character, a young girl who is easily scared. She buys a mask from the Novelty Shop, but it sticks to her face and the kids start to think she's a real monster.\n",
      "* **Sabrina:** Carly Beth's friend. She is more skeptical than Carly Beth about the mask, but ultimately gets scared too.\n",
      "* **Chuck:**  A boy who enjoys scaring Carly Beth. He becomes part of the fun as the other kids start to think Carly Beth is a monster.\n",
      "* **Steve:** Chuck's friend, and also enjoys the pranks on Carly Beth.\n",
      "* **The Tall Thin Man:** The owner of the Novelty Shop. He is a sinister man who knows the masks have a supernatural power. \n",
      "\n"
     ]
    }
   ],
   "source": [
    "\n",
    "response = chat_session.send_message(\"Describe the main characters in the video?\")\n",
    "print(response.text)\n"
   ]
  },
  {
   "cell_type": "code",
   "execution_count": 12,
   "id": "1e0d667a",
   "metadata": {
    "execution": {
     "iopub.execute_input": "2024-11-05T19:02:29.621634Z",
     "iopub.status.busy": "2024-11-05T19:02:29.621187Z",
     "iopub.status.idle": "2024-11-05T19:02:29.626501Z",
     "shell.execute_reply": "2024-11-05T19:02:29.625316Z"
    },
    "papermill": {
     "duration": 0.016492,
     "end_time": "2024-11-05T19:02:29.629002",
     "exception": false,
     "start_time": "2024-11-05T19:02:29.612510",
     "status": "completed"
    },
    "tags": []
   },
   "outputs": [],
   "source": [
    "\n",
    "# response = chat_session.send_message(\"Do the characters in the video resemble any popular actors?\")\n",
    "# print(response.text)\n"
   ]
  },
  {
   "cell_type": "code",
   "execution_count": 13,
   "id": "eea16af8",
   "metadata": {
    "execution": {
     "iopub.execute_input": "2024-11-05T19:02:29.645605Z",
     "iopub.status.busy": "2024-11-05T19:02:29.644522Z",
     "iopub.status.idle": "2024-11-05T19:02:44.121242Z",
     "shell.execute_reply": "2024-11-05T19:02:44.119759Z"
    },
    "papermill": {
     "duration": 14.487836,
     "end_time": "2024-11-05T19:02:44.123759",
     "exception": false,
     "start_time": "2024-11-05T19:02:29.635923",
     "status": "completed"
    },
    "tags": []
   },
   "outputs": [
    {
     "name": "stdout",
     "output_type": "stream",
     "text": [
      "यह वीडियो गुज़बंप्स सीरीज़ का एक एपिसोड है, जिसका नाम \"द हॉन्टेड मास्क\" है। इस एपिसोड में, कार्ली बेथ नाम की एक छोटी लड़की नॉवेल्टी शॉप से एक मास्क खरीदती है। लेकिन, यह मास्क उसके चेहरे पर चिपक जाता है और उसे उतार नहीं पाती।  इसके बाद, उसके दोस्त चक और स्टीव और बाकी बच्चे यह सोचने लगते हैं कि कार्ली बेथ एक असली राक्षस बन गई है।  शॉप के मालिक, लंबे और पतले आदमी को इन मास्कों की जादुई ताकत के बारे में पता है। \n",
      "\n"
     ]
    }
   ],
   "source": [
    "response = chat_session.send_message(\"Give me a hindi summary of the video?\")\n",
    "print(response.text)"
   ]
  },
  {
   "cell_type": "code",
   "execution_count": 14,
   "id": "f8443c99",
   "metadata": {
    "execution": {
     "iopub.execute_input": "2024-11-05T19:02:44.140072Z",
     "iopub.status.busy": "2024-11-05T19:02:44.139626Z",
     "iopub.status.idle": "2024-11-05T19:03:01.613565Z",
     "shell.execute_reply": "2024-11-05T19:03:01.612293Z"
    },
    "papermill": {
     "duration": 17.485008,
     "end_time": "2024-11-05T19:03:01.616358",
     "exception": false,
     "start_time": "2024-11-05T19:02:44.131350",
     "status": "completed"
    },
    "tags": []
   },
   "outputs": [
    {
     "name": "stdout",
     "output_type": "stream",
     "text": [
      "Here's a breakdown of the video into segments, with brief descriptions and timestamps:\n",
      "\n",
      "**Segment 1: 0:00- 0:47**\n",
      "- Introduction of R.L. Stine, the author of Goosebumps and a brief preview of the episode.\n",
      "\n",
      "**Segment 2: 0:47- 2:11**\n",
      "- Carly Beth and Sabrina walk past the Novelty Shop, and Sabrina notices the spooky masks inside. They decide to get pumpkins and then go home.\n",
      "\n",
      "**Segment 3: 2:11- 3:59**\n",
      "- Carly Beth comes home and shows her mom the clay bust she made in class, which looks like her.  She mentions the boys scaring her earlier. \n",
      "\n",
      "**Segment 4: 3:59- 5:52**\n",
      "- Carly Beth goes back to the Novelty Shop, the Tall Thin Man mentions his masks are not for sale, but Carly Beth insists on buying one, so he gives it to her for free.\n",
      "\n",
      "**Segment 5: 5:52- 7:55**\n",
      "-  Carly Beth returns home and tries on the mask, which sticks to her face. She freaks out and the boys appear.\n",
      "\n",
      "**Segment 6: 7:55- 10:47**\n",
      "-  The Tall Thin Man explains to Carly Beth the masks are not masks, but are real faces, and tells her she's the only one who's ever wanted them.\n",
      "\n",
      "**Segment 7: 10:47- 12:59**\n",
      "- The Tall Thin Man tries to explain the masks are cursed and that he's trying to stop them from decaying, but Carly Beth is  unconvinced.\n",
      "\n",
      "**Segment 8: 12:59- 17:06**\n",
      "-  Carly Beth's mom tries to convince her the mask is a joke, but she's really freaked out. \n",
      "\n",
      "**Segment 9: 17:06- 18:12**\n",
      "-  Carly Beth is now a monster and is scaring the kids who are trick or treating. Her mom arrives and is scared by her transformation. \n",
      "\n",
      "**Segment 10: 18:12- 19:57**\n",
      "-  The kids realize Carly Beth is stuck with the mask and don't want to be around her anymore.\n",
      "\n",
      "**Segment 11: 19:57- 22:33**\n",
      "-  Sabrina and Chuck continue trick or treating, and Carly Beth follows them. They are still scared of her and think she's a real monster.\n",
      "\n",
      "**Segment 12: 22:33- 23:52**\n",
      "- Carly Beth tries to convince Sabrina that it's just the mask that's making her look like a monster.\n",
      "\n",
      "**Segment 13: 23:52- 26:00**\n",
      "- Carly Beth is now a real monster and is hurting Chuck and Sabrina in the cemetery.\n",
      "\n",
      "**Segment 14: 26:00- 29:58**\n",
      "-  Carly Beth is now a real monster and is now even hurting the ghost and pirate costumes.\n",
      "\n",
      "**Segment 15: 29:58- 32:56**\n",
      "- Carly Beth tries to convince the other kids she isn't a monster, but her mom doesn't believe her.\n",
      "\n",
      "**Segment 16: 32:56- 34:53**\n",
      "-  The Tall Thin Man explains to Carly Beth the masks are real faces, and they were real people, so they won't be coming off of her.\n",
      "\n",
      "**Segment 17: 34:53- 38:45**\n",
      "-  Carly Beth is now a monster and is causing trouble in the shop. She is  transforming into a real monster.\n",
      "\n",
      "**Segment 18: 38:45- 40:02**\n",
      "-  The other kids run away from Carly Beth, and the mask keeps transforming her face into hideous versions.\n",
      "\n",
      "**Segment 19: 40:02- 41:54**\n",
      "- Carly Beth continues to transform and tries to convince her mom she isn't a monster.\n",
      "\n",
      "**Segment 20: 41:54- 42:32**\n",
      "-  Carly Beth's mom tries to help her get the mask off. \n",
      "\n",
      "**Segment 21: 42:32- 43:03**\n",
      "-  R.L. Stine closes the episode, and thanks the cast and crew.\n",
      "\n",
      "**Segment 22: 43:03- 43:08**\n",
      "-  End credits. \n",
      "\n"
     ]
    }
   ],
   "source": [
    "\n",
    "response = chat_session.send_message(\"If you had to breakdown the video into segments (like paragraphs but for video). What segments would it be? Briefly describe the segments. And also give the time stamps of the same.\")\n",
    "print(response.text)\n"
   ]
  },
  {
   "cell_type": "code",
   "execution_count": 15,
   "id": "cc5fe5ad",
   "metadata": {
    "execution": {
     "iopub.execute_input": "2024-11-05T19:03:01.633147Z",
     "iopub.status.busy": "2024-11-05T19:03:01.632699Z",
     "iopub.status.idle": "2024-11-05T19:03:19.397338Z",
     "shell.execute_reply": "2024-11-05T19:03:19.395995Z"
    },
    "papermill": {
     "duration": 17.777127,
     "end_time": "2024-11-05T19:03:19.401073",
     "exception": false,
     "start_time": "2024-11-05T19:03:01.623946",
     "status": "completed"
    },
    "tags": []
   },
   "outputs": [
    {
     "name": "stdout",
     "output_type": "stream",
     "text": [
      "Here's how I'd create a Goosebumps trailer for \"The Haunted Mask\" without giving away the plot:\n",
      "\n",
      "**Opening Shot (0:00-0:05):** A shot of Carly Beth's face, but only a glimpse of the mask peeking out from the side, with spooky music playing.\n",
      "\n",
      "**Segment 1 (0:05- 0:15):**  Cut to shots of Sabrina and Carly Beth looking into the window of the Novelty Shop, quickly flashing the most sinister-looking masks, with a slightly eerie music score building tension.\n",
      "\n",
      "**Segment 2 (0:15-0:25):**  A shot of the Tall Thin Man, staring directly at the camera with a menacing smile. Music ramps up with a slightly unsettling tone.\n",
      "\n",
      "**Segment 3 (0:25-0:30):**  Cut to a shot of Carly Beth wearing a costume, but from the back, so the mask isn't shown yet. We hear her laugh, which suddenly turns into a strained, panicked gasp.\n",
      "\n",
      "**Segment 4 (0:30-0:40):**  A fast-paced montage of scary Halloween decorations, pumpkins, and costumes. The music intensifies and becomes more chaotic.\n",
      "\n",
      "**Segment 5 (0:40-0:50):** A shot of Chuck and Steve trick or treating, looking happy and excited, then cut to a quick, blurry glimpse of a monster hand grabbing something.\n",
      "\n",
      "**Segment 6 (0:50-1:00):**  A shot of Carly Beth's mom, looking concerned, her expression shifting from fear to anger. Music slows down, becoming slightly suspenseful.\n",
      "\n",
      "**Closing Shot (1:00-1:05):**  A shot of Carly Beth's face again, but this time, the mask is fully visible and it's clear it's something sinister. The music builds to a crescendo.\n",
      "\n",
      "**Text on Screen:** \"This Halloween, be afraid of what you can't see...\"\n",
      "\n",
      "**Goosebumps Logo**\n",
      "\n",
      "\n",
      "This trailer uses just enough visual and audio cues to pique viewers' interest without giving away the main plot twist. \n",
      "\n"
     ]
    }
   ],
   "source": [
    "\n",
    "response = chat_session.send_message(\"If you had to create a trailer of the movie, without giving away the plot. What segments from the movie would you use, advise with timestamps.\")\n",
    "print(response.text)\n"
   ]
  },
  {
   "cell_type": "code",
   "execution_count": 16,
   "id": "f8febc42",
   "metadata": {
    "execution": {
     "iopub.execute_input": "2024-11-05T19:03:19.419303Z",
     "iopub.status.busy": "2024-11-05T19:03:19.418267Z",
     "iopub.status.idle": "2024-11-05T19:03:19.424245Z",
     "shell.execute_reply": "2024-11-05T19:03:19.423093Z"
    },
    "papermill": {
     "duration": 0.017492,
     "end_time": "2024-11-05T19:03:19.426816",
     "exception": false,
     "start_time": "2024-11-05T19:03:19.409324",
     "status": "completed"
    },
    "tags": []
   },
   "outputs": [
    {
     "name": "stdout",
     "output_type": "stream",
     "text": [
      "prompt_token_count: 765277\n",
      "candidates_token_count: 462\n",
      "total_token_count: 765739\n",
      "\n"
     ]
    }
   ],
   "source": [
    "print(response.usage_metadata)"
   ]
  },
  {
   "cell_type": "markdown",
   "id": "3348bfb5",
   "metadata": {
    "papermill": {
     "duration": 0.007677,
     "end_time": "2024-11-05T19:03:19.442178",
     "exception": false,
     "start_time": "2024-11-05T19:03:19.434501",
     "status": "completed"
    },
    "tags": []
   },
   "source": [
    "Credit:\n",
    " - Adapted from https://aistudio.google.com/app/prompts/video-qa"
   ]
  },
  {
   "cell_type": "code",
   "execution_count": null,
   "id": "493263e5",
   "metadata": {
    "papermill": {
     "duration": 0.007197,
     "end_time": "2024-11-05T19:03:19.456659",
     "exception": false,
     "start_time": "2024-11-05T19:03:19.449462",
     "status": "completed"
    },
    "tags": []
   },
   "outputs": [],
   "source": []
  }
 ],
 "metadata": {
  "kaggle": {
   "accelerator": "none",
   "dataSources": [
    {
     "databundleVersionId": 9881586,
     "sourceId": 83735,
     "sourceType": "competition"
    },
    {
     "datasetId": 6018365,
     "sourceId": 9816526,
     "sourceType": "datasetVersion"
    }
   ],
   "dockerImageVersionId": 30786,
   "isGpuEnabled": false,
   "isInternetEnabled": true,
   "language": "python",
   "sourceType": "notebook"
  },
  "kernelspec": {
   "display_name": "Python 3",
   "language": "python",
   "name": "python3"
  },
  "language_info": {
   "codemirror_mode": {
    "name": "ipython",
    "version": 3
   },
   "file_extension": ".py",
   "mimetype": "text/x-python",
   "name": "python",
   "nbconvert_exporter": "python",
   "pygments_lexer": "ipython3",
   "version": "3.10.14"
  },
  "papermill": {
   "default_parameters": {},
   "duration": 120.670278,
   "end_time": "2024-11-05T19:03:20.085771",
   "environment_variables": {},
   "exception": null,
   "input_path": "__notebook__.ipynb",
   "output_path": "__notebook__.ipynb",
   "parameters": {},
   "start_time": "2024-11-05T19:01:19.415493",
   "version": "2.6.0"
  }
 },
 "nbformat": 4,
 "nbformat_minor": 5
}
