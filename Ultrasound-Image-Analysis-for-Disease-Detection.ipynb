{
 "cells": [
  {
   "cell_type": "markdown",
   "id": "41bb9e39",
   "metadata": {
    "papermill": {
     "duration": 0.006248,
     "end_time": "2024-10-20T09:03:35.156410",
     "exception": false,
     "start_time": "2024-10-20T09:03:35.150162",
     "status": "completed"
    },
    "tags": []
   },
   "source": [
    "# AI-Powered Breast Ultrasound Analysis for Tumor Detection\n",
    "\n",
    "Breast cancer remains a significant global health concern, with early detection being crucial for effective treatment and improved patient outcomes. Traditional methods for interpreting breast ultrasound images can be time-consuming and subjective, often leading to variability in diagnostic accuracy. This notebook aims to leverage the advanced capabilities of **Gemini 1.5** to enhance the analysis of breast ultrasound images, facilitating more consistent and accurate interpretations.\n",
    "\n",
    "With its impressive **2-million-token context window**, Gemini 1.5 is uniquely positioned to process extensive image data and textual information concurrently. This allows it to analyze ultrasound images alongside relevant medical literature, enabling the model to provide qualitative insights regarding the presence of tumors and their distinguishing features compared to normal tissue.\n",
    "\n",
    "## Key Objectives\n",
    "\n",
    "- **Purpose:** To demonstrate Gemini 1.5’s ability to interpret breast ultrasound images and identify tumor characteristics.\n",
    "  \n",
    "- **Scope:** Evaluate images from three categories—*benign*, *malignant*, and *normal*—using a few representative examples to guide the model's analysis.\n",
    "  \n",
    "- **Novelty:** Illustrate how the model's expansive context window can facilitate a deeper understanding of ultrasound imaging and improve diagnostic support for healthcare professionals.\n",
    "\n",
    "## Setup & Installation\n",
    "\n",
    "In this section, we will install the necessary packages and authenticate our session to connect with Google’s AI services, ensuring seamless interaction with Gemini 1.5. This setup will enable us to utilize the model's generative capabilities for effective image analysis.\n"
   ]
  },
  {
   "cell_type": "code",
   "execution_count": 1,
   "id": "d58aa5e0",
   "metadata": {
    "execution": {
     "iopub.execute_input": "2024-10-20T09:03:35.169952Z",
     "iopub.status.busy": "2024-10-20T09:03:35.169413Z",
     "iopub.status.idle": "2024-10-20T09:03:50.057766Z",
     "shell.execute_reply": "2024-10-20T09:03:50.056668Z"
    },
    "papermill": {
     "duration": 14.898297,
     "end_time": "2024-10-20T09:03:50.060314",
     "exception": false,
     "start_time": "2024-10-20T09:03:35.162017",
     "status": "completed"
    },
    "tags": []
   },
   "outputs": [],
   "source": [
    "# Import standard libraries\n",
    "import os\n",
    "import time\n",
    "import numpy as np\n",
    "import random\n",
    "import pandas as pd\n",
    "import matplotlib.pyplot as plt\n",
    "from PIL import Image\n",
    "import io\n",
    "import cv2\n",
    "import base64\n",
    "\n",
    "# Import machine learning and image processing libraries\n",
    "import tensorflow as tf\n",
    "\n",
    "# Import Google Generative AI library for Gemini 1.5 API\n",
    "import google.generativeai as genai\n",
    "from google.generativeai import caching\n",
    "\n",
    "# Kaggle secrets for API access\n",
    "from kaggle_secrets import UserSecretsClient"
   ]
  },
  {
   "cell_type": "markdown",
   "id": "0479a82b",
   "metadata": {
    "papermill": {
     "duration": 0.005082,
     "end_time": "2024-10-20T09:03:50.070983",
     "exception": false,
     "start_time": "2024-10-20T09:03:50.065901",
     "status": "completed"
    },
    "tags": []
   },
   "source": [
    "# Setting Up Access to the Gemini 1.5 API\n",
    "\n",
    "In this section, we will load the necessary secrets to access the AI Studio token, enabling us to authenticate and interact with the Google Generative AI API. This is a crucial step to ensure that our notebook can leverage the capabilities of the Gemini 1.5 model for analyzing breast ultrasound images effectively.\n",
    "\n",
    "We will also verify that TensorFlow is configured to utilize GPU resources, which is essential for optimizing computation speed during image processing tasks. Additionally, we'll set a random seed for reproducibility, ensuring consistent results across different runs of the notebook.\n",
    "\n",
    "The following code accomplishes these tasks:\n"
   ]
  },
  {
   "cell_type": "code",
   "execution_count": 2,
   "id": "adccd94d",
   "metadata": {
    "execution": {
     "iopub.execute_input": "2024-10-20T09:03:50.083854Z",
     "iopub.status.busy": "2024-10-20T09:03:50.083136Z",
     "iopub.status.idle": "2024-10-20T09:03:50.364645Z",
     "shell.execute_reply": "2024-10-20T09:03:50.363506Z"
    },
    "papermill": {
     "duration": 0.29117,
     "end_time": "2024-10-20T09:03:50.367677",
     "exception": false,
     "start_time": "2024-10-20T09:03:50.076507",
     "status": "completed"
    },
    "tags": []
   },
   "outputs": [
    {
     "name": "stdout",
     "output_type": "stream",
     "text": [
      "TensorFlow is using GPU: []\n",
      "Packages imported and AI Studio token configured successfully!\n"
     ]
    }
   ],
   "source": [
    "# Load Kaggle secrets to access the AI Studio token\n",
    "user_secrets = UserSecretsClient()\n",
    "ai_studio_token = user_secrets.get_secret(\"gemini_token\")\n",
    "\n",
    "# Authenticate Google Generative AI API with the AI Studio token\n",
    "genai.configure(api_key=ai_studio_token)\n",
    "\n",
    "# Check if TensorFlow is using GPU for faster computation\n",
    "print(\"TensorFlow is using GPU:\", tf.config.list_physical_devices('GPU'))\n",
    "\n",
    "# Set a seed for reproducibility\n",
    "SEED = 42\n",
    "np.random.seed(SEED)\n",
    "tf.random.set_seed(SEED)\n",
    "\n",
    "print(\"Packages imported and AI Studio token configured successfully!\")"
   ]
  },
  {
   "cell_type": "markdown",
   "id": "bd2894a4",
   "metadata": {
    "papermill": {
     "duration": 0.005383,
     "end_time": "2024-10-20T09:03:50.378795",
     "exception": false,
     "start_time": "2024-10-20T09:03:50.373412",
     "status": "completed"
    },
    "tags": []
   },
   "source": [
    "# Configuring and Loading the Gemini 1.5 Model\n",
    "\n",
    "In this section, we define the configuration parameters for the Gemini 1.5 model. These parameters play a vital role in controlling the behavior of the model during content generation:\n",
    "\n",
    "- **Temperature**: This parameter determines the randomness of the model's outputs. A higher temperature (e.g., 1) allows for more creative and varied responses, while a lower temperature results in more focused and deterministic outputs.\n",
    "  \n",
    "- **Top-p (Nucleus Sampling)**: This threshold (set at 0.95) helps maintain sampling diversity by limiting the number of probable tokens from which the model can generate the next token. It effectively balances between randomness and coherence.\n",
    "\n",
    "- **Top-k**: By setting this to 64, we define the number of top probable tokens the model will consider for generating each token in the output, contributing to the richness of the generated content.\n",
    "\n",
    "- **Max Output Tokens**: The model is configured to produce a maximum of 8192 tokens in its response, allowing for detailed analysis and insights.\n",
    "\n",
    "- **Response MIME Type**: Specifying `text/plain` ensures that the output is in a plain text format, which is suitable for textual analysis.\n",
    "\n",
    "After defining these configurations, we proceed to create and load the Gemini 1.5 model using the specified parameters. This step is crucial as it prepares the model for the subsequent analysis of breast ultrasound images.\n",
    "\n",
    "The following code accomplishes these tasks:\n"
   ]
  },
  {
   "cell_type": "code",
   "execution_count": 3,
   "id": "361bb670",
   "metadata": {
    "execution": {
     "iopub.execute_input": "2024-10-20T09:03:50.392403Z",
     "iopub.status.busy": "2024-10-20T09:03:50.391564Z",
     "iopub.status.idle": "2024-10-20T09:03:50.398019Z",
     "shell.execute_reply": "2024-10-20T09:03:50.397029Z"
    },
    "papermill": {
     "duration": 0.016038,
     "end_time": "2024-10-20T09:03:50.400720",
     "exception": false,
     "start_time": "2024-10-20T09:03:50.384682",
     "status": "completed"
    },
    "tags": []
   },
   "outputs": [
    {
     "name": "stdout",
     "output_type": "stream",
     "text": [
      "gemini-1.5-flash model loaded successfully!\n"
     ]
    }
   ],
   "source": [
    "# Define the configuration for the Gemini 1.5 model generation\n",
    "generation_config = {\n",
    "    \"temperature\": 1,           # Controls the randomness of outputs. Higher values mean more random outputs.\n",
    "    \"top_p\": 0.95,              # Nucleus sampling threshold for sampling diversity.\n",
    "    \"top_k\": 64,                # Number of top probable tokens considered for sampling.\n",
    "    \"max_output_tokens\": 8192,  # Maximum number of tokens the model will output.\n",
    "    \"response_mime_type\": \"text/plain\",  # MIME type for the output format.\n",
    "}\n",
    "\n",
    "# Create and load the Gemini 1.5 model using the above configuration\n",
    "model = genai.GenerativeModel(\n",
    "    model_name=\"gemini-1.5-flash\",\n",
    "    generation_config=generation_config\n",
    ")\n",
    "\n",
    "print(\"gemini-1.5-flash model loaded successfully!\")\n"
   ]
  },
  {
   "cell_type": "markdown",
   "id": "bb5f8fb7",
   "metadata": {
    "papermill": {
     "duration": 0.005758,
     "end_time": "2024-10-20T09:03:50.413201",
     "exception": false,
     "start_time": "2024-10-20T09:03:50.407443",
     "status": "completed"
    },
    "tags": []
   },
   "source": [
    "# Defining Directories for Breast Ultrasound Images\n",
    "\n",
    "In this section, we specify the directories that contain the breast ultrasound images organized into three categories: benign, malignant, and normal. This structured approach allows us to easily access and process images from each category for analysis. \n",
    "\n",
    "- **Benign Directory**: This folder contains ultrasound images classified as benign, which typically indicate non-cancerous conditions.\n",
    "\n",
    "- **Malignant Directory**: This folder holds images identified as malignant, representing potential cancerous tumors that require careful evaluation.\n",
    "\n",
    "- **Normal Directory**: This folder includes ultrasound images that are deemed normal, serving as a baseline for comparison against other categories.\n",
    "\n",
    "By clearly defining these directories, we streamline the process of loading and analyzing images in the subsequent steps of our analysis.\n"
   ]
  },
  {
   "cell_type": "code",
   "execution_count": 4,
   "id": "40afb844",
   "metadata": {
    "execution": {
     "iopub.execute_input": "2024-10-20T09:03:50.426742Z",
     "iopub.status.busy": "2024-10-20T09:03:50.425939Z",
     "iopub.status.idle": "2024-10-20T09:03:50.432724Z",
     "shell.execute_reply": "2024-10-20T09:03:50.431597Z"
    },
    "papermill": {
     "duration": 0.016116,
     "end_time": "2024-10-20T09:03:50.435065",
     "exception": false,
     "start_time": "2024-10-20T09:03:50.418949",
     "status": "completed"
    },
    "tags": []
   },
   "outputs": [],
   "source": [
    "# Define the directories\n",
    "benign_dir = \"/kaggle/input/breast-ultrasound-images-dataset/Dataset_BUSI_with_GT/benign/\"\n",
    "malignant_dir = \"/kaggle/input/breast-ultrasound-images-dataset/Dataset_BUSI_with_GT/malignant/\"\n",
    "normal_dir = \"/kaggle/input/breast-ultrasound-images-dataset/Dataset_BUSI_with_GT/normal/\""
   ]
  },
  {
   "cell_type": "markdown",
   "id": "82774441",
   "metadata": {
    "papermill": {
     "duration": 0.005383,
     "end_time": "2024-10-20T09:03:50.446164",
     "exception": false,
     "start_time": "2024-10-20T09:03:50.440781",
     "status": "completed"
    },
    "tags": []
   },
   "source": [
    "# Creating Video from Images\n",
    "\n",
    "This section defines a function `create_video_from_images` that generates a video from a specified number of images in a directory while maintaining their **original resolution** to ensure the preservation of all visual details.\n",
    "\n",
    "- **Function Definition**: The function accepts the following parameters:\n",
    "  - **image_dir**: The directory containing the images.\n",
    "  - **video_name**: The name of the output video file.\n",
    "  - **num_images**: The maximum number of images to include in the video, defaulting to 10.\n",
    "  - **fps**: Frames per second, which controls the playback speed of the video.\n",
    "\n",
    "- **Video Creation Process**:\n",
    "  1. **Image Selection**: The function generates a list of image file paths from the specified directory and randomly selects a subset of images to include in the video.\n",
    "  2. **Resolution Setup**: The resolution of the video is determined by the dimensions of the first image in the selected subset, ensuring all frames in the video are of consistent size.\n",
    "  3. **Video Writing**: The function sequentially reads each selected image in its original resolution and writes it to the video file, maintaining the original size and format of each image.\n",
    "\n",
    "By using this function, a video is created from a set of images without compromising on the resolution, making it suitable for tasks requiring high-quality visual data.\n"
   ]
  },
  {
   "cell_type": "code",
   "execution_count": 5,
   "id": "0ee7a82a",
   "metadata": {
    "execution": {
     "iopub.execute_input": "2024-10-20T09:03:50.459146Z",
     "iopub.status.busy": "2024-10-20T09:03:50.458753Z",
     "iopub.status.idle": "2024-10-20T09:03:50.466580Z",
     "shell.execute_reply": "2024-10-20T09:03:50.465448Z"
    },
    "papermill": {
     "duration": 0.017015,
     "end_time": "2024-10-20T09:03:50.468863",
     "exception": false,
     "start_time": "2024-10-20T09:03:50.451848",
     "status": "completed"
    },
    "tags": []
   },
   "outputs": [],
   "source": [
    "# Function to create a video from images\n",
    "def create_video_from_images(image_dir, video_name, num_images=10, fps=1):\n",
    "    image_paths = [\n",
    "        os.path.join(image_dir, f) for f in os.listdir(image_dir) \n",
    "        if f.endswith('.png') and \"_mask\" not in f\n",
    "    ]\n",
    "    random.shuffle(image_paths)\n",
    "    selected_images = image_paths[:num_images]  # Select the first 'num_images'\n",
    "\n",
    "    # Get the size of the first image to use for the video resolution\n",
    "    first_image = cv2.imread(selected_images[0])\n",
    "    height, width, layers = first_image.shape\n",
    "\n",
    "    # Initialize video writer with original image size\n",
    "    video_writer = cv2.VideoWriter(video_name, cv2.VideoWriter_fourcc(*'mp4v'), fps, (width, height))\n",
    "\n",
    "    for path in selected_images:\n",
    "        image = cv2.imread(path)\n",
    "        video_writer.write(image)\n",
    "\n",
    "    video_writer.release()  # Finalize the video file\n"
   ]
  },
  {
   "cell_type": "markdown",
   "id": "161c21c1",
   "metadata": {
    "papermill": {
     "duration": 0.005497,
     "end_time": "2024-10-20T09:03:50.480023",
     "exception": false,
     "start_time": "2024-10-20T09:03:50.474526",
     "status": "completed"
    },
    "tags": []
   },
   "source": [
    "# Defining Paths for Video Creation\n",
    "\n",
    "In this section, we define the paths to the directories containing the breast ultrasound images for each class—benign, malignant, and normal. These paths will be used to create videos representing each category of images.\n",
    "\n",
    "- **Directory Paths**:\n",
    "  - **Benign Images**: \n",
    "    - Path: `'/kaggle/input/breast-ultrasound-images-dataset/Dataset_BUSI_with_GT/benign/'`\n",
    "  - **Malignant Images**: \n",
    "    - Path: `'/kaggle/input/breast-ultrasound-images-dataset/Dataset_BUSI_with_GT/malignant/'`\n",
    "  - **Normal Images**: \n",
    "    - Path: `'/kaggle/input/breast-ultrasound-images-dataset/Dataset_BUSI_with_GT/normal/'`\n",
    "\n",
    "By defining these paths, we ensure that the subsequent video creation process can access the appropriate images for analysis and classification.\n"
   ]
  },
  {
   "cell_type": "code",
   "execution_count": 6,
   "id": "9855a27c",
   "metadata": {
    "execution": {
     "iopub.execute_input": "2024-10-20T09:03:50.493082Z",
     "iopub.status.busy": "2024-10-20T09:03:50.492630Z",
     "iopub.status.idle": "2024-10-20T09:03:50.497724Z",
     "shell.execute_reply": "2024-10-20T09:03:50.496609Z"
    },
    "papermill": {
     "duration": 0.014356,
     "end_time": "2024-10-20T09:03:50.500055",
     "exception": false,
     "start_time": "2024-10-20T09:03:50.485699",
     "status": "completed"
    },
    "tags": []
   },
   "outputs": [],
   "source": [
    "# Define paths and create the video for each class\n",
    "benign_dir = '/kaggle/input/breast-ultrasound-images-dataset/Dataset_BUSI_with_GT/benign/'\n",
    "malignant_dir = '/kaggle/input/breast-ultrasound-images-dataset/Dataset_BUSI_with_GT/malignant/'\n",
    "normal_dir = '/kaggle/input/breast-ultrasound-images-dataset/Dataset_BUSI_with_GT/normal/'"
   ]
  },
  {
   "cell_type": "markdown",
   "id": "5d2969eb",
   "metadata": {
    "papermill": {
     "duration": 0.005327,
     "end_time": "2024-10-20T09:03:50.511092",
     "exception": false,
     "start_time": "2024-10-20T09:03:50.505765",
     "status": "completed"
    },
    "tags": []
   },
   "source": [
    "# Creating Videos for Each Category\n",
    "\n",
    "In this section, we generate videos for each category of breast ultrasound images—benign, malignant, and normal—without resizing the images. This ensures that the original quality and details of the images are preserved in the final videos.\n",
    "\n",
    "- **Video Creation Process**:\n",
    "  - The function `create_video_from_images` is called for each category, producing a video file for each.\n",
    "  \n",
    "- **Generated Video Files**:\n",
    "  - **Benign Video**: `benign_video.mp4`\n",
    "  - **Malignant Video**: `malignant_video.mp4`\n",
    "  - **Normal Video**: `normal_video.mp4`\n",
    "\n",
    "By executing these function calls, we create visually informative videos that can be utilized for further analysis and classification tasks.\n"
   ]
  },
  {
   "cell_type": "code",
   "execution_count": 7,
   "id": "816f1e0f",
   "metadata": {
    "execution": {
     "iopub.execute_input": "2024-10-20T09:03:50.524462Z",
     "iopub.status.busy": "2024-10-20T09:03:50.523592Z",
     "iopub.status.idle": "2024-10-20T09:03:54.756595Z",
     "shell.execute_reply": "2024-10-20T09:03:54.755616Z"
    },
    "papermill": {
     "duration": 4.242287,
     "end_time": "2024-10-20T09:03:54.759123",
     "exception": false,
     "start_time": "2024-10-20T09:03:50.516836",
     "status": "completed"
    },
    "tags": []
   },
   "outputs": [],
   "source": [
    "# Create videos for each category without resizing\n",
    "create_video_from_images(benign_dir, \"benign_video.mp4\", num_images=50)\n",
    "create_video_from_images(malignant_dir, \"malignant_video.mp4\", num_images=50)\n",
    "create_video_from_images(normal_dir, \"normal_video.mp4\", num_images=50)"
   ]
  },
  {
   "cell_type": "markdown",
   "id": "45ee9309",
   "metadata": {
    "papermill": {
     "duration": 0.005772,
     "end_time": "2024-10-20T09:03:54.770806",
     "exception": false,
     "start_time": "2024-10-20T09:03:54.765034",
     "status": "completed"
    },
    "tags": []
   },
   "source": [
    "# Uploading Videos to Gemini\n",
    "\n",
    "In this section, we upload the generated videos for each category to the Gemini platform. This step allows for easy access and analysis of the videos within the Gemini framework.\n",
    "\n",
    "- **Video Upload Process**:\n",
    "  - The `genai.upload_file` function is used to upload each video file to Gemini.\n",
    "  \n",
    "- **Uploaded Videos**:\n",
    "  - **Benign Video**: `benign_video.mp4`\n",
    "  - **Malignant Video**: `malignant_video.mp4`\n",
    "  - **Normal Video**: `normal_video.mp4`\n",
    "\n",
    "By uploading these videos, we ensure that they are available for further classification and analysis tasks using the Gemini 1.5 model.\n"
   ]
  },
  {
   "cell_type": "code",
   "execution_count": 8,
   "id": "c7e35499",
   "metadata": {
    "execution": {
     "iopub.execute_input": "2024-10-20T09:03:54.784453Z",
     "iopub.status.busy": "2024-10-20T09:03:54.783677Z",
     "iopub.status.idle": "2024-10-20T09:04:04.608415Z",
     "shell.execute_reply": "2024-10-20T09:04:04.607319Z"
    },
    "papermill": {
     "duration": 9.834289,
     "end_time": "2024-10-20T09:04:04.610969",
     "exception": false,
     "start_time": "2024-10-20T09:03:54.776680",
     "status": "completed"
    },
    "tags": []
   },
   "outputs": [],
   "source": [
    "# Now upload the videos to Gemini\n",
    "benign_video = genai.upload_file(\"benign_video.mp4\")\n",
    "malignant_video = genai.upload_file(\"malignant_video.mp4\")\n",
    "normal_video = genai.upload_file(\"normal_video.mp4\")"
   ]
  },
  {
   "cell_type": "markdown",
   "id": "2122980d",
   "metadata": {
    "papermill": {
     "duration": 0.005337,
     "end_time": "2024-10-20T09:04:04.622130",
     "exception": false,
     "start_time": "2024-10-20T09:04:04.616793",
     "status": "completed"
    },
    "tags": []
   },
   "source": [
    "# Adjusting the Prompt to Reference the Videos\n",
    "\n",
    "This section defines the example prompt that will guide the LLM's analysis by providing context through video examples of benign, malignant, and normal breast ultrasound images.\n",
    "\n",
    "- **Example Prompt**:\n",
    "    \"I have provided videos of breast ultrasound images to guide your classification. Please analyze and classify the following videos based on their characteristics:\"\n",
    "\n",
    "    - **Benign Video**: `benign_video`\n",
    "      - This video contains images that typically feature well-defined borders and homogeneous echogenicity, indicating the absence of malignant characteristics.\n",
    "    \n",
    "    - **Malignant Video**: `malignant_video`\n",
    "      - This video contains images that may display irregular borders, heterogeneous echogenicity, or the presence of hypoechoic regions, suggesting potential tumor presence.\n",
    "    \n",
    "    - **Normal Video**: `normal_video`\n",
    "      - This video contains images demonstrating typical breast tissue architecture, with uniform echogenicity and no signs of abnormal structures.\n",
    "\n",
    "By providing these videos, the LLM is informed of key visual patterns that it can use to classify and analyze subsequent images more accurately.\n"
   ]
  },
  {
   "cell_type": "code",
   "execution_count": 9,
   "id": "d3a0481c",
   "metadata": {
    "execution": {
     "iopub.execute_input": "2024-10-20T09:04:04.635700Z",
     "iopub.status.busy": "2024-10-20T09:04:04.634702Z",
     "iopub.status.idle": "2024-10-20T09:04:04.641348Z",
     "shell.execute_reply": "2024-10-20T09:04:04.640289Z"
    },
    "papermill": {
     "duration": 0.015967,
     "end_time": "2024-10-20T09:04:04.643698",
     "exception": false,
     "start_time": "2024-10-20T09:04:04.627731",
     "status": "completed"
    },
    "tags": []
   },
   "outputs": [],
   "source": [
    "example_prompt = (\n",
    "    \"I have provided videos of breast ultrasound images to guide your classification. \"\n",
    "    \"Please analyze and classify the following videos based on their characteristics:\\n\\n\"\n",
    "    f\"Benign Video: {benign_video}\\n\"\n",
    "    \"This video contains images that typically feature well-defined, smooth borders and homogeneous echogenicity, suggesting the absence of malignant characteristics.\\n\\n\"\n",
    "    f\"Malignant Video: {malignant_video}\\n\"\n",
    "    \"This video contains images that may display irregular borders, heterogeneous echogenicity, hypoechoic regions, or spiculated masses, which are potential indicators of malignancy. \"\n",
    "    \"You may also observe posterior acoustic shadowing or calcifications, which further support the suspicion of a tumor.\\n\\n\"\n",
    "    f\"Normal Video: {normal_video}\\n\"\n",
    "    \"This video contains images demonstrating typical breast tissue architecture, with uniform echogenicity, no visible masses, and no signs of architectural distortion or abnormal structures.\\n\"\n",
    ")\n"
   ]
  },
  {
   "cell_type": "markdown",
   "id": "24947930",
   "metadata": {
    "papermill": {
     "duration": 0.005248,
     "end_time": "2024-10-20T09:04:04.654899",
     "exception": false,
     "start_time": "2024-10-20T09:04:04.649651",
     "status": "completed"
    },
    "tags": []
   },
   "source": [
    "# Testing with Example Prompt on Selected Images which are under Normal category\n",
    "\n",
    "In this section, we define a process for analyzing breast ultrasound images by using the Gemini 1.5 model. The following steps outline how to select and process images from the \"normal\" category:\n",
    "\n",
    "- **Folder Path Definition**:\n",
    "  \n",
    "  The path to the folder containing normal images is specified as follows:\n",
    "\n",
    "  ```python\n",
    "  folder_path = \"/kaggle/input/breast-ultrasound-images-dataset/Dataset_BUSI_with_GT/normal/\"\n"
   ]
  },
  {
   "cell_type": "code",
   "execution_count": 10,
   "id": "0697cda3",
   "metadata": {
    "execution": {
     "iopub.execute_input": "2024-10-20T09:04:04.667803Z",
     "iopub.status.busy": "2024-10-20T09:04:04.667227Z",
     "iopub.status.idle": "2024-10-20T09:04:51.972370Z",
     "shell.execute_reply": "2024-10-20T09:04:51.971203Z"
    },
    "papermill": {
     "duration": 47.31434,
     "end_time": "2024-10-20T09:04:51.974792",
     "exception": false,
     "start_time": "2024-10-20T09:04:04.660452",
     "status": "completed"
    },
    "tags": []
   },
   "outputs": [
    {
     "name": "stdout",
     "output_type": "stream",
     "text": [
      "===============================\n",
      "        Processing Image        \n",
      "===============================\n",
      "\n",
      "Image Path: /kaggle/input/breast-ultrasound-images-dataset/Dataset_BUSI_with_GT/normal/normal (30).png\n",
      "\n",
      "==================================================\n",
      "      Results for Image: /kaggle/input/breast-ultrasound-images-dataset/Dataset_BUSI_with_GT/normal/normal (30).png      \n",
      "--------------------------------------------------\n",
      "The provided breast ultrasound image exhibits a complex echotexture with multiple hypoechoic regions scattered throughout.  This pattern deviates from the homogeneous echogenicity typical of benign breast tissue, as seen in the benign video. While the image lacks the clear definition of a well-demarcated mass, the heterogeneous echotexture and the presence of hypoechoic areas raise concerns about potential malignancy. These characteristics are consistent with the appearance of tumors in the malignant video, particularly those demonstrating irregular borders and heterogeneous echogenicity. \n",
      "\n",
      "While the image doesn't reveal a classic spiculated mass, the multiple hypoechoic regions could represent areas of infiltrating tumor growth, potentially suggesting a more diffuse or infiltrative type of breast cancer. \n",
      "\n",
      "Given the ambiguous nature of the image, further investigation is warranted.  A biopsy would be necessary to definitively determine the nature of the observed features and to provide a definitive diagnosis. \n",
      "\n",
      "==================================================\n",
      "\n",
      "Prompt Details:\n",
      "prompt_token_count: 1427\n",
      "candidates_token_count: 181\n",
      "total_token_count: 1608\n",
      "\n",
      "===============================\n",
      "        Processing Image        \n",
      "===============================\n",
      "\n",
      "Image Path: /kaggle/input/breast-ultrasound-images-dataset/Dataset_BUSI_with_GT/normal/normal (115).png\n",
      "\n",
      "==================================================\n",
      "      Results for Image: /kaggle/input/breast-ultrasound-images-dataset/Dataset_BUSI_with_GT/normal/normal (115).png      \n",
      "--------------------------------------------------\n",
      "The image provided is too blurry and lacks sufficient clarity for a definitive analysis. It is difficult to discern any specific features or structures with confidence due to the low resolution and poor quality. \n",
      "\n",
      "However, based on the provided context and the characteristics observed in the \"Malignant Video,\"  it is possible to speculate that the image may contain potential signs of an abnormality. The overall echotexture appears heterogeneous, with areas of varying echogenicity. This is similar to what is seen in the malignant video, where the tumors often display heterogeneous echogenicity. Additionally, the image seems to show some irregular borders, which could be suggestive of a tumor with an irregular shape. \n",
      "\n",
      "It is important to note that this analysis is highly speculative, as the image quality is very poor. A proper diagnosis requires a clearer ultrasound image with adequate resolution, allowing for a more detailed examination of the structure and its characteristics.  \n",
      "\n",
      "For a proper diagnosis, it is highly recommended to consult with a radiologist or a qualified medical professional who can interpret the ultrasound image in the context of the patient's history and other clinical findings.\n",
      "\n",
      "==================================================\n",
      "\n",
      "Prompt Details:\n",
      "prompt_token_count: 1427\n",
      "candidates_token_count: 222\n",
      "total_token_count: 1649\n",
      "\n",
      "===============================\n",
      "        Processing Image        \n",
      "===============================\n",
      "\n",
      "Image Path: /kaggle/input/breast-ultrasound-images-dataset/Dataset_BUSI_with_GT/normal/normal (36).png\n",
      "\n",
      "==================================================\n",
      "      Results for Image: /kaggle/input/breast-ultrasound-images-dataset/Dataset_BUSI_with_GT/normal/normal (36).png      \n",
      "--------------------------------------------------\n",
      "The provided breast ultrasound image displays features that deviate from the typical patterns observed in the \"benign\" video. It exhibits several characteristics indicative of a potential tumor, aligning more closely with the patterns seen in the \"malignant\" video. \n",
      "\n",
      "Specifically, the image reveals a hypoechoic region, a darker area compared to the surrounding tissue, suggesting a possible mass. This mass is characterized by irregular borders and heterogeneous echogenicity, with areas of both higher and lower echogenicity within the mass. These features deviate from the well-defined, smooth borders and homogeneous echogenicity observed in the benign examples.\n",
      "\n",
      "While the precise size and morphology of the potential tumor cannot be determined solely from the single image, its irregular shape, heterogeneous texture, and hypoechoic nature raise concerns for malignancy. \n",
      "\n",
      "It is crucial to remember that a single ultrasound image is insufficient for definitive diagnosis. Further evaluation, potentially including additional imaging modalities and a biopsy, is essential to determine the true nature of the suspected mass. \n",
      "\n",
      "==================================================\n",
      "\n",
      "Prompt Details:\n",
      "prompt_token_count: 1427\n",
      "candidates_token_count: 199\n",
      "total_token_count: 1626\n",
      "\n",
      "===============================\n",
      "        Processing Image        \n",
      "===============================\n",
      "\n",
      "Image Path: /kaggle/input/breast-ultrasound-images-dataset/Dataset_BUSI_with_GT/normal/normal (34).png\n",
      "\n",
      "==================================================\n",
      "      Results for Image: /kaggle/input/breast-ultrasound-images-dataset/Dataset_BUSI_with_GT/normal/normal (34).png      \n",
      "--------------------------------------------------\n",
      "The image shows a heterogeneous echotexture with an irregular border, resembling the characteristics of a malignant tumor as presented in the provided malignant video. There is a hypoechoic region that might represent a potential tumor. However, it's important to note that this is just a single image and a full assessment requires reviewing the entire sequence.\n",
      "\n",
      "The echogenicity differences and the irregular border deviate from the typical patterns observed in the benign video, which highlights smooth borders and homogeneous echogenicity. The observed features in the image align with the suspicious characteristics highlighted in the malignant video.\n",
      "\n",
      "Therefore, based on this image alone, it's highly suggestive of a potential malignant tumor. Further analysis of the complete video sequence and clinical evaluation are essential to determine the definitive nature of the observed features. \n",
      "\n",
      "==================================================\n",
      "\n",
      "Prompt Details:\n",
      "prompt_token_count: 1427\n",
      "candidates_token_count: 155\n",
      "total_token_count: 1582\n",
      "\n",
      "===============================\n",
      "        Processing Image        \n",
      "===============================\n",
      "\n",
      "Image Path: /kaggle/input/breast-ultrasound-images-dataset/Dataset_BUSI_with_GT/normal/normal (111).png\n",
      "\n",
      "==================================================\n",
      "      Results for Image: /kaggle/input/breast-ultrasound-images-dataset/Dataset_BUSI_with_GT/normal/normal (111).png      \n",
      "--------------------------------------------------\n",
      "The provided image shows a heterogeneous echotexture with areas of hypoechogenicity. The borders of the hypoechoic regions are irregular and somewhat spiculated. This pattern is characteristic of malignant lesions as shown in the \"malignant video.\"  Based on the video examples, this image likely represents a malignant tumor. \n",
      "\n",
      "However, without more information and clinical context, it is impossible to determine the exact size and morphology of the tumor. A more detailed analysis would be necessary to establish a definitive diagnosis. \n",
      "\n",
      "==================================================\n",
      "\n",
      "Prompt Details:\n",
      "prompt_token_count: 1427\n",
      "candidates_token_count: 100\n",
      "total_token_count: 1527\n",
      "\n",
      "===============================\n",
      "        Processing Image        \n",
      "===============================\n",
      "\n",
      "Image Path: /kaggle/input/breast-ultrasound-images-dataset/Dataset_BUSI_with_GT/normal/normal (126).png\n",
      "\n",
      "==================================================\n",
      "      Results for Image: /kaggle/input/breast-ultrasound-images-dataset/Dataset_BUSI_with_GT/normal/normal (126).png      \n",
      "--------------------------------------------------\n",
      "The image shows a hypoechoic region with irregular borders, suggesting a possible tumor. The echotexture within the region is heterogeneous, further supporting the suspicion of a tumor. While the size and morphology of the tumor cannot be precisely determined from this single image, the features observed are consistent with malignant characteristics as seen in the \"malignant video\" example. \n",
      "\n",
      "Further investigation with additional ultrasound images and possibly a biopsy is recommended to confirm the diagnosis and determine the nature of the tumor. \n",
      "\n",
      "==================================================\n",
      "\n",
      "Prompt Details:\n",
      "prompt_token_count: 1427\n",
      "candidates_token_count: 97\n",
      "total_token_count: 1524\n",
      "\n",
      "===============================\n",
      "        Processing Image        \n",
      "===============================\n",
      "\n",
      "Image Path: /kaggle/input/breast-ultrasound-images-dataset/Dataset_BUSI_with_GT/normal/normal (55).png\n",
      "\n",
      "==================================================\n",
      "      Results for Image: /kaggle/input/breast-ultrasound-images-dataset/Dataset_BUSI_with_GT/normal/normal (55).png      \n",
      "--------------------------------------------------\n",
      "The provided image is difficult to analyze definitively without the accompanying video. However, based on the descriptions you provided, it seems the image might be representative of a **benign** breast ultrasound. This is because it shows a fairly homogeneous echotexture with no obvious irregular borders or hypoechoic regions that would be characteristic of a malignant lesion.\n",
      "\n",
      "To provide a more confident assessment, I would need to see the full video sequence and assess the image in the context of the other frames, looking for subtle variations in echogenicity, shapes, and borders. This could help me rule out the possibility of a small, well-defined mass that might be missed in a single static image. \n",
      "\n",
      "Please share the video so I can provide a more thorough analysis! \n",
      "\n",
      "==================================================\n",
      "\n",
      "Prompt Details:\n",
      "prompt_token_count: 1427\n",
      "candidates_token_count: 151\n",
      "total_token_count: 1578\n",
      "\n",
      "===============================\n",
      "        Processing Image        \n",
      "===============================\n",
      "\n",
      "Image Path: /kaggle/input/breast-ultrasound-images-dataset/Dataset_BUSI_with_GT/normal/normal (97).png\n",
      "\n",
      "==================================================\n",
      "      Results for Image: /kaggle/input/breast-ultrasound-images-dataset/Dataset_BUSI_with_GT/normal/normal (97).png      \n",
      "--------------------------------------------------\n",
      "The provided image does not exhibit any clear signs of malignancy. The overall echotexture appears relatively homogeneous, with no noticeable irregular borders, spiculated masses, or hypoechoic regions. The image does show some scattered echogenic areas, which might be considered suspicious, however, without more context it is difficult to definitively classify them.\n",
      "\n",
      "To provide a more accurate assessment, I need additional information. Could you please clarify:\n",
      "\n",
      "* **What is the context of this image?** Is it part of a larger breast ultrasound examination, or is it an isolated image?\n",
      "* **What were the specific reasons for performing the ultrasound?** Was it a screening exam or was it conducted for a specific concern?\n",
      "* **Are there any other images from this ultrasound study available?** \n",
      "* **Is there any clinical information about the patient, such as age and medical history?**\n",
      "\n",
      "With more information, I can analyze the image in a more comprehensive manner and provide a more accurate assessment of the potential for abnormal structures or tumors. \n",
      "\n",
      "==================================================\n",
      "\n",
      "Prompt Details:\n",
      "prompt_token_count: 1427\n",
      "candidates_token_count: 207\n",
      "total_token_count: 1634\n",
      "\n",
      "===============================\n",
      "        Processing Image        \n",
      "===============================\n",
      "\n",
      "Image Path: /kaggle/input/breast-ultrasound-images-dataset/Dataset_BUSI_with_GT/normal/normal (19).png\n",
      "\n",
      "==================================================\n",
      "      Results for Image: /kaggle/input/breast-ultrasound-images-dataset/Dataset_BUSI_with_GT/normal/normal (19).png      \n",
      "--------------------------------------------------\n",
      "The provided ultrasound image displays characteristics that deviate from the typical patterns observed in the \"normal\" video. It exhibits a focal hypoechoic region with irregular borders, suggesting the presence of a mass. This mass appears to be moderately sized, with a heterogeneous echotexture.  While the image lacks the distinct spiculated appearance often associated with malignant tumors, the combination of irregular margins and heterogeneous echogenicity warrants further investigation. This finding is closer to the characteristics observed in the \"malignant\" video, raising concerns about the possibility of a tumor. \n",
      "\n",
      "To establish a definitive diagnosis, further evaluation is needed. This may include:\n",
      "\n",
      "* **Additional imaging**: Ultrasound guided biopsy, mammography, and/or MRI.\n",
      "* **Histopathology**: Biopsy for microscopic analysis to confirm or rule out malignancy.\n",
      "\n",
      "Based on the current image alone, the presence of a mass with irregular borders and heterogeneous echotexture is indicative of a potential tumor, but further investigation is essential to determine its nature and appropriate management. \n",
      "\n",
      "==================================================\n",
      "\n",
      "Prompt Details:\n",
      "prompt_token_count: 1427\n",
      "candidates_token_count: 202\n",
      "total_token_count: 1629\n",
      "\n",
      "===============================\n",
      "        Processing Image        \n",
      "===============================\n",
      "\n",
      "Image Path: /kaggle/input/breast-ultrasound-images-dataset/Dataset_BUSI_with_GT/normal/normal (93).png\n",
      "\n",
      "==================================================\n",
      "      Results for Image: /kaggle/input/breast-ultrasound-images-dataset/Dataset_BUSI_with_GT/normal/normal (93).png      \n",
      "--------------------------------------------------\n",
      "The provided breast ultrasound image, in the context of the accompanying video, displays features characteristic of normal breast tissue. The echogenicity is homogenous and the borders are well-defined, lacking the irregular shapes and heterogeneous echotexture that are potential indicators of malignancy as seen in the \"malignant\" video.  There are no hypoechoic regions or spiculated masses, nor is there any evidence of posterior acoustic shadowing or calcifications, which are additional red flags for tumors. The image resembles the typical patterns observed in the \"benign\" video, suggesting the absence of any abnormal structures or tumors. \n",
      "\n",
      "==================================================\n",
      "\n",
      "Prompt Details:\n",
      "prompt_token_count: 1427\n",
      "candidates_token_count: 120\n",
      "total_token_count: 1547\n",
      "\n"
     ]
    }
   ],
   "source": [
    "# Define the path to the folder containing normal images\n",
    "folder_path = \"/kaggle/input/breast-ultrasound-images-dataset/Dataset_BUSI_with_GT/normal/\"\n",
    "\n",
    "# Get a list of image files in the folder, excluding those with '_mask' in the filename\n",
    "image_files = [\n",
    "    os.path.join(folder_path, f) for f in os.listdir(folder_path) \n",
    "    if f.endswith('.png') and \"_mask\" not in f\n",
    "]\n",
    "\n",
    "# Pick 5 random images from the filtered list\n",
    "selected_images = np.random.choice(image_files, 10, replace=False)\n",
    "\n",
    "# Upload each selected image to Gemini 1.5 model and print the results\n",
    "for img_path in selected_images:\n",
    "    print(f\"===============================\")\n",
    "    print(f\"        Processing Image        \")\n",
    "    print(f\"===============================\\n\")\n",
    "    print(f\"Image Path: {img_path}\\n\")\n",
    "    \n",
    "    # Upload the image to Gemini\n",
    "    myfile = genai.upload_file(img_path)\n",
    "    \n",
    "    # Create the detailed prompt\n",
    "    detailed_prompt = (\n",
    "        \"Please analyze the provided breast ultrasound image in the context of the accompanying video, which consists of a series of images that illustrate different characteristics. \"\n",
    "        \"Identify any features in the image that may indicate abnormal structures or tumors, taking into account the visual cues presented in the video. \"\n",
    "        \"Focus on qualitative differences, including the presence of irregular borders, echotexture variations, or hypoechoic regions, particularly in comparison to the typical patterns observed in the video. \"\n",
    "        \"Additionally, provide a medical description of any identified tumors, including their size and morphology when applicable. \"\n",
    "        \"Use the examples provided in the video to inform your analysis and classification:\\n\\n\" + example_prompt\n",
    "    )\n",
    "\n",
    "    # Generate content for the image using Gemini 1.5 model\n",
    "    result = model.generate_content([\n",
    "        myfile, \"\\n\\n\", detailed_prompt\n",
    "    ])\n",
    "    \n",
    "    # Output the result from the LLM in a structured format\n",
    "    print(f\"{'=' * 50}\")\n",
    "    print(f\"      Results for Image: {img_path}      \")\n",
    "    print(f\"{'-' * 50}\")\n",
    "    print(f\"{result.text}\")\n",
    "    print(f\"{'=' * 50}\\n\")\n",
    "    \n",
    "    # Display prompt details in a more readable format\n",
    "    print(\"Prompt Details:\")\n",
    "    print(result.usage_metadata)\n"
   ]
  },
  {
   "cell_type": "markdown",
   "id": "d28496fa",
   "metadata": {
    "papermill": {
     "duration": 0.006568,
     "end_time": "2024-10-20T09:04:51.988117",
     "exception": false,
     "start_time": "2024-10-20T09:04:51.981549",
     "status": "completed"
    },
    "tags": []
   },
   "source": [
    "# Testing with Example Prompt on Selected Images which are under Malignant category\n",
    "\n",
    "In this section, we outline the process for analyzing breast ultrasound images that are classified as malignant. The following steps detail how to select and process these images using the Gemini 1.5 model:\n",
    "\n",
    "- **Folder Path Definition**:\n",
    "\n",
    "  The path to the folder containing malignant images is specified as follows:\n",
    "\n",
    "  ```python\n",
    "  folder_path = \"/kaggle/input/breast-ultrasound-images-dataset/Dataset_BUSI_with_GT/malignant/\"\n"
   ]
  },
  {
   "cell_type": "code",
   "execution_count": 11,
   "id": "612d769f",
   "metadata": {
    "execution": {
     "iopub.execute_input": "2024-10-20T09:04:52.004816Z",
     "iopub.status.busy": "2024-10-20T09:04:52.003786Z",
     "iopub.status.idle": "2024-10-20T09:05:16.976771Z",
     "shell.execute_reply": "2024-10-20T09:05:16.975635Z"
    },
    "papermill": {
     "duration": 24.984044,
     "end_time": "2024-10-20T09:05:16.979404",
     "exception": false,
     "start_time": "2024-10-20T09:04:51.995360",
     "status": "completed"
    },
    "tags": []
   },
   "outputs": [
    {
     "name": "stdout",
     "output_type": "stream",
     "text": [
      "===============================\n",
      "        Processing Image        \n",
      "===============================\n",
      "\n",
      "Image Path: /kaggle/input/breast-ultrasound-images-dataset/Dataset_BUSI_with_GT/malignant/malignant (32).png\n",
      "\n",
      "==================================================\n",
      "      Results for Image: /kaggle/input/breast-ultrasound-images-dataset/Dataset_BUSI_with_GT/malignant/malignant (32).png      \n",
      "--------------------------------------------------\n",
      "The image shows a large, hypoechoic mass with irregular borders located in the right breast. The mass appears to be spiculated and has a heterogeneous echotexture, with areas of both increased and decreased echogenicity. These features, particularly the irregular borders and spiculated shape, are suggestive of malignancy based on the examples provided in the videos. The mass appears to be quite large, but an exact measurement cannot be determined from this image alone.\n",
      "\n",
      "This mass bears resemblance to the malignant examples in the provided video, exhibiting characteristics like irregular borders, heterogeneous echotexture, and spiculation.  The presence of a hypoechoic mass with such features should be investigated further with a biopsy to determine its exact nature and establish a definitive diagnosis.\n",
      "\n",
      "==================================================\n",
      "\n",
      "Prompt Details:\n",
      "prompt_token_count: 1427\n",
      "candidates_token_count: 148\n",
      "total_token_count: 1575\n",
      "\n",
      "===============================\n",
      "        Processing Image        \n",
      "===============================\n",
      "\n",
      "Image Path: /kaggle/input/breast-ultrasound-images-dataset/Dataset_BUSI_with_GT/malignant/malignant (175).png\n",
      "\n",
      "==================================================\n",
      "      Results for Image: /kaggle/input/breast-ultrasound-images-dataset/Dataset_BUSI_with_GT/malignant/malignant (175).png      \n",
      "--------------------------------------------------\n",
      "The provided breast ultrasound image is challenging to interpret without the accompanying video. However, based on the information provided, I can offer a preliminary analysis:\n",
      "\n",
      "**Features of potential concern:**\n",
      "\n",
      "* **Hypoechoic region:** The image reveals a large, dark (hypoechoic) region in the center. This area is less reflective of sound waves than surrounding tissue, suggesting a possible mass. \n",
      "* **Irregular borders:** The borders of the hypoechoic region appear somewhat irregular, which is a potential indicator of a malignant tumor. \n",
      "\n",
      "**Limitations:**\n",
      "\n",
      "* **Lack of video context:** The absence of the video makes it difficult to compare the observed features to typical patterns seen in benign and malignant breast tissue.\n",
      "* **Possible artifacts:** The image quality and lack of additional information (e.g., location within the breast) make it difficult to rule out potential artifacts that could mimic tumor-like structures.\n",
      "\n",
      "**Recommendation:**\n",
      "\n",
      "The presence of the hypoechoic region with irregular borders raises concerns and necessitates further investigation.  The video would be crucial for a more accurate classification. A radiologist should carefully review the entire video and consider the following:\n",
      "\n",
      "* **Echotexture:** The internal structure of the mass (e.g., homogeneity, presence of microlobulations, or spiculations) is important to assess.\n",
      "* **Shape and margins:** Detailed examination of the mass's shape and margins, including the presence of spiculation or angular features, is essential.\n",
      "* **Acoustic shadowing and calcifications:**  The presence of these features can provide additional clues to the nature of the mass.\n",
      "\n",
      "**Conclusion:**\n",
      "\n",
      "While the image suggests a possible mass, a definitive diagnosis requires a comprehensive analysis by a radiologist in the context of the entire video and clinical history. Further imaging or biopsy may be necessary to determine the nature of the suspected mass. \n",
      "\n",
      "==================================================\n",
      "\n",
      "Prompt Details:\n",
      "prompt_token_count: 1427\n",
      "candidates_token_count: 378\n",
      "total_token_count: 1805\n",
      "\n",
      "===============================\n",
      "        Processing Image        \n",
      "===============================\n",
      "\n",
      "Image Path: /kaggle/input/breast-ultrasound-images-dataset/Dataset_BUSI_with_GT/malignant/malignant (78).png\n",
      "\n",
      "==================================================\n",
      "      Results for Image: /kaggle/input/breast-ultrasound-images-dataset/Dataset_BUSI_with_GT/malignant/malignant (78).png      \n",
      "--------------------------------------------------\n",
      "The provided ultrasound image exhibits several features suggestive of a potential tumor. \n",
      "\n",
      "- **Irregular Borders:** The mass displays irregular, ill-defined borders, deviating from the smooth contours observed in the \"benign\" video. This irregularity is a significant indicator of malignancy, contrasting with the well-defined borders of benign lesions. \n",
      "\n",
      "- **Heterogeneous Echotexture:**  The mass demonstrates heterogeneous echogenicity, with varying degrees of echogenicities within its structure. This characteristic is absent in the \"benign\" video, where the tissue appears homogenous. The \"malignant\" video exhibits similar heterogeneity, supporting the suspicion of a malignant tumor. \n",
      "\n",
      "- **Hypoechoic Regions:** The mass contains hypoechoic regions, meaning it appears darker than the surrounding tissue. This feature aligns with the \"malignant\" video, which also displays hypoechoic areas within the tumor. This suggests a potential reduction in the density of the tumor tissue. \n",
      "\n",
      "Based on the visual cues presented in the video and the observed features, the mass in the image is highly suggestive of a malignant tumor. The irregular borders, heterogeneous echotexture, and hypoechoic regions are strong indicators of malignancy, contrasting with the characteristics of benign lesions.  \n",
      "\n",
      "To confirm the diagnosis, further investigations are required, including a biopsy to determine the specific type of tumor and its histological characteristics.  However, based on the ultrasound image alone, the features are concerning and warrant further evaluation by a medical professional. \n",
      "\n",
      "==================================================\n",
      "\n",
      "Prompt Details:\n",
      "prompt_token_count: 1427\n",
      "candidates_token_count: 299\n",
      "total_token_count: 1726\n",
      "\n",
      "===============================\n",
      "        Processing Image        \n",
      "===============================\n",
      "\n",
      "Image Path: /kaggle/input/breast-ultrasound-images-dataset/Dataset_BUSI_with_GT/malignant/malignant (193).png\n",
      "\n",
      "==================================================\n",
      "      Results for Image: /kaggle/input/breast-ultrasound-images-dataset/Dataset_BUSI_with_GT/malignant/malignant (193).png      \n",
      "--------------------------------------------------\n",
      "The provided image appears to depict a hypoechoic, round-shaped mass with irregular borders. The mass exhibits a heterogeneous echotexture, suggestive of internal variations in tissue density. The image lacks clear evidence of posterior acoustic shadowing or calcifications.\n",
      "\n",
      "While the irregular borders and heterogeneous echotexture are concerning features, the lack of posterior shadowing or calcifications makes it difficult to definitively classify the mass as malignant based solely on this image. The presence of such features would strongly support the suspicion of a tumor.\n",
      "\n",
      "To provide a more accurate assessment, it is crucial to compare the image with the surrounding breast tissue, analyze the mass's growth pattern and morphology over time (if available), and consider additional clinical and imaging data. \n",
      "\n",
      "Based on the available information, the mass appears to be suspicious, warranting further investigation and potential biopsy to determine its nature and necessitate appropriate management. \n",
      "\n",
      "==================================================\n",
      "\n",
      "Prompt Details:\n",
      "prompt_token_count: 1427\n",
      "candidates_token_count: 178\n",
      "total_token_count: 1605\n",
      "\n",
      "===============================\n",
      "        Processing Image        \n",
      "===============================\n",
      "\n",
      "Image Path: /kaggle/input/breast-ultrasound-images-dataset/Dataset_BUSI_with_GT/malignant/malignant (36).png\n",
      "\n",
      "==================================================\n",
      "      Results for Image: /kaggle/input/breast-ultrasound-images-dataset/Dataset_BUSI_with_GT/malignant/malignant (36).png      \n",
      "--------------------------------------------------\n",
      "The provided ultrasound image exhibits several features that raise concern for a potential malignancy. Compared to the \"normal\" video, this image presents a distinct, hypoechoic region with irregular borders. This area stands out against the background of the surrounding tissues, unlike the homogeneous echogenicity observed in the \"normal\" video.\n",
      "\n",
      "Furthermore, the irregular borders of the hypoechoic region are suggestive of a possible tumor, which contrasts with the well-defined, smooth borders characteristic of benign lesions in the \"benign\" video. This suggests that the observed lesion may not be a typical benign cyst.\n",
      "\n",
      "Although the image lacks visible calcifications or posterior acoustic shadowing, the combination of irregular borders and hypoechoic texture, particularly within the context of the \"malignant\" video, necessitates further investigation. The size and morphology of the potential tumor cannot be definitively determined from this single image.\n",
      "\n",
      "Therefore, this image requires further analysis and potentially additional imaging studies to confirm or rule out the presence of a malignant tumor. It is crucial to consult with a healthcare professional for a comprehensive evaluation and diagnosis. \n",
      "\n",
      "==================================================\n",
      "\n",
      "Prompt Details:\n",
      "prompt_token_count: 1427\n",
      "candidates_token_count: 216\n",
      "total_token_count: 1643\n",
      "\n"
     ]
    }
   ],
   "source": [
    "# Define the path to the folder containing malignant images\n",
    "folder_path = \"/kaggle/input/breast-ultrasound-images-dataset/Dataset_BUSI_with_GT/malignant/\"\n",
    "\n",
    "# Get a list of image files in the folder, excluding those with '_mask' in the filename\n",
    "image_files = [\n",
    "    os.path.join(folder_path, f) for f in os.listdir(folder_path) \n",
    "    if f.endswith('.png') and \"_mask\" not in f\n",
    "]\n",
    "\n",
    "# Pick 5 random images from the filtered list\n",
    "selected_images = np.random.choice(image_files, 5, replace=False)\n",
    "\n",
    "# Upload each selected image to Gemini 1.5 model and print the results\n",
    "for img_path in selected_images:\n",
    "    print(f\"===============================\")\n",
    "    print(f\"        Processing Image        \")\n",
    "    print(f\"===============================\\n\")\n",
    "    print(f\"Image Path: {img_path}\\n\")\n",
    "    \n",
    "    # Upload the image to Gemini\n",
    "    myfile = genai.upload_file(img_path)\n",
    "    \n",
    "    # Create the detailed prompt\n",
    "    detailed_prompt = (\n",
    "        \"Please analyze the provided breast ultrasound image in the context of the accompanying video, which consists of a series of images that illustrate different characteristics. \"\n",
    "        \"Identify any features in the image that may indicate abnormal structures or tumors, taking into account the visual cues presented in the video. \"\n",
    "        \"Focus on qualitative differences, including the presence of irregular borders, echotexture variations, or hypoechoic regions, particularly in comparison to the typical patterns observed in the video. \"\n",
    "        \"Additionally, provide a medical description of any identified tumors, including their size and morphology when applicable. \"\n",
    "        \"Use the examples provided in the video to inform your analysis and classification:\\n\\n\" + example_prompt\n",
    "    )\n",
    "\n",
    "    # Generate content for the image using Gemini 1.5 model\n",
    "    result = model.generate_content([\n",
    "        myfile, \"\\n\\n\", detailed_prompt\n",
    "    ])\n",
    "    \n",
    "    # Output the result from the LLM in a structured format\n",
    "    print(f\"{'=' * 50}\")\n",
    "    print(f\"      Results for Image: {img_path}      \")\n",
    "    print(f\"{'-' * 50}\")\n",
    "    print(f\"{result.text}\")\n",
    "    print(f\"{'=' * 50}\\n\")\n",
    "\n",
    "    # Display prompt details in a readable format\n",
    "    print(\"Prompt Details:\")\n",
    "    print(result.usage_metadata)\n"
   ]
  },
  {
   "cell_type": "markdown",
   "id": "31255251",
   "metadata": {
    "papermill": {
     "duration": 0.006948,
     "end_time": "2024-10-20T09:05:16.993915",
     "exception": false,
     "start_time": "2024-10-20T09:05:16.986967",
     "status": "completed"
    },
    "tags": []
   },
   "source": [
    "# Dataset Citation\n",
    "\n",
    "This analysis uses the breast ultrasound images dataset provided by Al-Dhabyani W, Gomaa M, Khaled H, and Fahmy A. The dataset can be cited as follows:\n",
    "\n",
    "Al-Dhabyani, W., Gomaa, M., Khaled, H., & Fahmy, A. (2020). Dataset of breast ultrasound images. *Data in Brief, 28*, 104863. https://doi.org/10.1016/j.dib.2019.104863\n"
   ]
  },
  {
   "cell_type": "code",
   "execution_count": null,
   "id": "88b3f314",
   "metadata": {
    "papermill": {
     "duration": 0.006925,
     "end_time": "2024-10-20T09:05:17.008131",
     "exception": false,
     "start_time": "2024-10-20T09:05:17.001206",
     "status": "completed"
    },
    "tags": []
   },
   "outputs": [],
   "source": []
  }
 ],
 "metadata": {
  "kaggle": {
   "accelerator": "none",
   "dataSources": [
    {
     "databundleVersionId": 9881586,
     "sourceId": 83735,
     "sourceType": "competition"
    },
    {
     "datasetId": 1209633,
     "sourceId": 2021025,
     "sourceType": "datasetVersion"
    }
   ],
   "dockerImageVersionId": 30786,
   "isGpuEnabled": false,
   "isInternetEnabled": true,
   "language": "python",
   "sourceType": "notebook"
  },
  "kernelspec": {
   "display_name": "Python 3",
   "language": "python",
   "name": "python3"
  },
  "language_info": {
   "codemirror_mode": {
    "name": "ipython",
    "version": 3
   },
   "file_extension": ".py",
   "mimetype": "text/x-python",
   "name": "python",
   "nbconvert_exporter": "python",
   "pygments_lexer": "ipython3",
   "version": "3.10.14"
  },
  "papermill": {
   "default_parameters": {},
   "duration": 106.090861,
   "end_time": "2024-10-20T09:05:18.539568",
   "environment_variables": {},
   "exception": null,
   "input_path": "__notebook__.ipynb",
   "output_path": "__notebook__.ipynb",
   "parameters": {},
   "start_time": "2024-10-20T09:03:32.448707",
   "version": "2.6.0"
  }
 },
 "nbformat": 4,
 "nbformat_minor": 5
}
